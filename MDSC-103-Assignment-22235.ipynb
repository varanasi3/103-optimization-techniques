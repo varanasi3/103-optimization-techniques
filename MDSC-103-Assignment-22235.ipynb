{
 "cells": [
  {
   "cell_type": "code",
   "execution_count": 15,
   "id": "f2073548",
   "metadata": {},
   "outputs": [],
   "source": [
    "import numpy as np\n",
    "import matplotlib.pyplot as plt\n",
    "import math\n"
   ]
  },
  {
   "cell_type": "code",
   "execution_count": null,
   "id": "dafd53b8",
   "metadata": {},
   "outputs": [],
   "source": []
  },
  {
   "cell_type": "markdown",
   "id": "20a3fab5",
   "metadata": {},
   "source": [
    "# Golden Section"
   ]
  },
  {
   "cell_type": "code",
   "execution_count": 16,
   "id": "8efb1984",
   "metadata": {},
   "outputs": [],
   "source": [
    "def f(y):\n",
    "    if(0<= y <= 2):\n",
    "        \n",
    "        a= lambda y : 4*y\n",
    "        return a(y)\n",
    "    if(2<= y <= 4):\n",
    "        b=lambda y : 4-y\n",
    "        return b(y)\n",
    "\n",
    "\n",
    "\n",
    "def golden(l_limit,r_limit,ite):\n",
    "    xl = l_limit\n",
    "    xr = r_limit\n",
    "    d = (np.sqrt(5)-1)/2\n",
    "    i =0\n",
    "    while i< ite:\n",
    "        x1 = xr - d*(xr-xl)\n",
    "        x2 = xl + d*(xr-xl)\n",
    "        if(f(x1)>f(x2)):\n",
    "            xr=x2\n",
    "        if(f(x1)<f(x2)):\n",
    "            xl=x1\n",
    "        if(f(x1)==f(x2)):\n",
    "            x1=x1\n",
    "            x2=x2\n",
    "        print(f\"the {i} th values of x1,x2 are {x1}  {x2} \")\n",
    "        i=i+1\n",
    "    print(x1)\n",
    "    print(x2)"
   ]
  },
  {
   "cell_type": "code",
   "execution_count": 6,
   "id": "30c31f0a",
   "metadata": {},
   "outputs": [
    {
     "name": "stdout",
     "output_type": "stream",
     "text": [
      "the 0 th values of x1,x2 are 1.5278640450004204  2.4721359549995796 \n",
      "the 1 th values of x1,x2 are 0.9442719099991588  1.5278640450004208 \n",
      "the 2 th values of x1,x2 are 1.5278640450004206  1.8885438199983178 \n",
      "the 3 th values of x1,x2 are 1.8885438199983176  2.1114561800016824 \n",
      "the 4 th values of x1,x2 are 1.7507764050037855  1.8885438199983176 \n",
      "the 5 th values of x1,x2 are 1.8885438199983176  1.9736887650071504 \n",
      "the 6 th values of x1,x2 are 1.9736887650071502  2.02631123499285 \n",
      "the 7 th values of x1,x2 are 1.941166289984017  1.9736887650071504 \n",
      "the 8 th values of x1,x2 are 1.9736887650071504  1.9937887599697164 \n",
      "the 9 th values of x1,x2 are 1.9937887599697164  2.006211240030284 \n",
      "1.9937887599697164\n",
      "2.006211240030284\n"
     ]
    }
   ],
   "source": [
    "golden(0,4,10)"
   ]
  },
  {
   "cell_type": "markdown",
   "id": "f3bc1f9d",
   "metadata": {},
   "source": [
    "# Gradient Descent"
   ]
  },
  {
   "cell_type": "code",
   "execution_count": null,
   "id": "341d1178",
   "metadata": {},
   "outputs": [],
   "source": []
  },
  {
   "cell_type": "code",
   "execution_count": 20,
   "id": "7ea8793a",
   "metadata": {},
   "outputs": [
    {
     "name": "stdout",
     "output_type": "stream",
     "text": [
      "  0.4\n",
      "  0.41728\n",
      "  0.425565818627031\n",
      "  0.42941252396738105\n",
      "  0.4311698626690649\n",
      "  0.4319666099744996\n",
      "  0.4323265790354758\n",
      "  0.43248895352186656\n",
      "  0.43256214445014407\n",
      " the minima of given function 0.43256214445014407\n"
     ]
    }
   ],
   "source": [
    "def f(x):\n",
    "     return(6*x**4+7*x**2-8*x-14)\n",
    "    \n",
    "def g(x):\n",
    "    return (24*x**3+14*x-8)\n",
    "\n",
    "def gradient(p,r,err,ite):\n",
    "    i = 0\n",
    "    while i < ite:\n",
    "        x1 = p-r*g(p)  # descent\n",
    "        print(\" \" ,x1)\n",
    "        i=i+1\n",
    "        if (abs(p-x1) < err):\n",
    "            break\n",
    "        p = x1    \n",
    "    \n",
    "    return x1\n",
    "\n",
    "print(\" the minima of given function\", gradient(1,0.02,0.0001,10))"
   ]
  },
  {
   "cell_type": "code",
   "execution_count": null,
   "id": "b974c6b0",
   "metadata": {},
   "outputs": [],
   "source": []
  },
  {
   "cell_type": "code",
   "execution_count": null,
   "id": "c1b05520",
   "metadata": {},
   "outputs": [],
   "source": []
  }
 ],
 "metadata": {
  "kernelspec": {
   "display_name": "Python 3 (ipykernel)",
   "language": "python",
   "name": "python3"
  },
  "language_info": {
   "codemirror_mode": {
    "name": "ipython",
    "version": 3
   },
   "file_extension": ".py",
   "mimetype": "text/x-python",
   "name": "python",
   "nbconvert_exporter": "python",
   "pygments_lexer": "ipython3",
   "version": "3.9.13"
  }
 },
 "nbformat": 4,
 "nbformat_minor": 5
}
