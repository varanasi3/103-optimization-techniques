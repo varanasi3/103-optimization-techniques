{
 "cells": [
  {
   "cell_type": "code",
   "execution_count": 1,
   "id": "a5bbd3e3",
   "metadata": {},
   "outputs": [],
   "source": [
    "import numpy as np\n",
    "import matplotlib.pyplot as plt\n",
    "import math\n",
    "from mpl_toolkits import mplot3d"
   ]
  },
  {
   "cell_type": "markdown",
   "id": "662a7eb1",
   "metadata": {},
   "source": [
    "## Maximize:   z = 5$x_1$+4$x_2$ \n",
    "\n",
    "### subject to  :  ,\n",
    "   \n"
   ]
  },
  {
   "cell_type": "code",
   "execution_count": null,
   "id": "20df38f2",
   "metadata": {},
   "outputs": [],
   "source": []
  },
  {
   "cell_type": "code",
   "execution_count": 14,
   "id": "f8954ca6",
   "metadata": {},
   "outputs": [
    {
     "data": {
      "image/png": "[encoded data removed]",
      "text/plain": [
       "<Figure size 720x720 with 1 Axes>"
      ]
     },
     "metadata": {
      "needs_background": "light"
     },
     "output_type": "display_data"
    }
   ],
   "source": [
    "\n",
    "x1= np.linspace(-1,5,100)\n",
    "\n",
    "x2 = np.linspace(-1,5,100)\n",
    "\n",
    "s1= lambda x : (24-6*x)/4 \n",
    "\n",
    "s2 = lambda x: (6-x)/2\n",
    "\n",
    "s3 = lambda x: 1+x\n",
    "\n",
    "s4 = lambda x: 2+x-x\n",
    "\n",
    "s5 = lambda x : 0*x\n",
    "\n",
    "s6 = lambda x: 0*x\n",
    "\n",
    "\n",
    "\n",
    "fig =plt.figure(figsize=(10,10))    \n",
    "l1=plt.plot(x1,s1(x2),label = \"$6x_1+4x_2<=24$\")\n",
    "l2 = plt.plot(x1,s2(x2),label = \"$x_1+2x_2<=6$\")\n",
    "l3 = plt.plot(x1,s3(x1),label = \"$-x_1+x_2<=1$\")\n",
    "l4 = plt.plot(x1,s4(x1),label = \"$ x_2<=2$\")\n",
    "l5 = plt.plot(x1,s5(x1),label = \"$ x_1>=0$\")\n",
    "l6 = plt.plot(x1,s6(x1),label = \"$ x_2>=0$\")\n",
    "\n",
    "\n",
    "a,b = np.meshgrid(x1,x2)\n",
    "plt.imshow(((6*a+4*b<=24) & (a+2*b<=6) & (-a+b<=1) & (b<=2)) & (a>=0) & (b>=0).astype(int) , \n",
    "                extent=(a.min(),a.max(),b.min(),b.max()),origin=\"lower\", cmap=\"Accent\", alpha = 0.8);\n",
    "\n",
    "plt.ylim(0,7)\n",
    "plt.xlim(0,5)\n",
    "plt.grid()\n",
    "plt.legend(loc =2)\n",
    "\n",
    "\n",
    "\n",
    "\n",
    "con1_2 = np.array([[6, 4], [1, 2]])\n",
    "B = np.array([24, 6])\n",
    "X = np.linalg.inv(con1_2).dot(B)\n",
    "\n",
    "\n",
    "con3_4 = np.array([[0, 1], [-1, 1]])\n",
    "B = np.array([2, 1])\n",
    "X2 = np.linalg.inv(con3_4).dot(B)\n",
    "X2\n",
    "\n",
    "con2_4 = np.array([[0, 1], [1, 2]])\n",
    "B = np.array([2, 6])\n",
    "X3 = np.linalg.inv(con2_4).dot(B)\n",
    "X3\n",
    "\n",
    "con3_6 = np.array([[1, 0], [-1, 1]])\n",
    "B = np.array([0, 1])\n",
    "X4 = np.linalg.inv(con3_6).dot(B)\n",
    "X4\n",
    "\n",
    "con1_5 = np.array([[6, 4], [0, 1]])\n",
    "B = np.array([24, 0])\n",
    "X1 = np.linalg.inv(con1_5).dot(B)\n",
    "X1\n",
    "\n",
    "con5_6 = np.array([[0, 1], [1, 0]])\n",
    "B = np.array([0, 0])\n",
    "X5 = np.linalg.inv(con5_6).dot(B)\n",
    "X5\n",
    "\n",
    "XP = np.array([X,X1,X2,X3,X4,X5])\n",
    "\n",
    "for i in range(len(XP)):\n",
    "    plt.scatter(XP[i, 0], XP[i, 1], marker='*', alpha = 1, color = 'blue')\n",
    "plt.show()\n",
    "\n",
    "\n",
    "\n",
    "\n"
   ]
  },
  {
   "cell_type": "code",
   "execution_count": null,
   "id": "b36dd951",
   "metadata": {},
   "outputs": [],
   "source": []
  }
 ],
 "metadata": {
  "kernelspec": {
   "display_name": "Python 3 (ipykernel)",
   "language": "python",
   "name": "python3"
  },
  "language_info": {
   "codemirror_mode": {
    "name": "ipython",
    "version": 3
   },
   "file_extension": ".py",
   "mimetype": "text/x-python",
   "name": "python",
   "nbconvert_exporter": "python",
   "pygments_lexer": "ipython3",
   "version": "3.9.13"
  }
 },
 "nbformat": 4,
 "nbformat_minor": 5
}
